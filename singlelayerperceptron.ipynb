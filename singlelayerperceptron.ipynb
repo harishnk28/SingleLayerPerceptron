{
  "nbformat": 4,
  "nbformat_minor": 0,
  "metadata": {
    "colab": {
      "name": "singlelayerperceptron.ipynb",
      "provenance": [],
      "collapsed_sections": [],
      "authorship_tag": "ABX9TyMVx1ICjMH4tQTcyTjPwxu0",
      "include_colab_link": true
    },
    "kernelspec": {
      "name": "python3",
      "display_name": "Python 3"
    },
    "language_info": {
      "name": "python"
    },
    "accelerator": "GPU"
  },
  "cells": [
    {
      "cell_type": "markdown",
      "metadata": {
        "id": "view-in-github",
        "colab_type": "text"
      },
      "source": [
        "<a href=\"https://colab.research.google.com/github/harishnk28/SingleLayerPerceptron/blob/main/singlelayerperceptron.ipynb\" target=\"_parent\"><img src=\"https://colab.research.google.com/assets/colab-badge.svg\" alt=\"Open In Colab\"/></a>"
      ]
    },
    {
      "cell_type": "code",
      "metadata": {
        "id": "uGbzOdq01yNy"
      },
      "source": [
        ""
      ],
      "execution_count": null,
      "outputs": []
    },
    {
      "cell_type": "code",
      "metadata": {
        "colab": {
          "base_uri": "https://localhost:8080/",
          "height": 166
        },
        "id": "2OKuhC91p4eJ",
        "outputId": "bcb5ebc1-5253-4d7a-cf0f-a66c6af9fb8a"
      },
      "source": [
        "\n",
        "import pandas as pd \n",
        "import numpy as np\n",
        "data=[[-1,-1],[1,-1],[-1,1],[1,1]]\n",
        "Y=[[0],[1],[1],[1]]\n",
        "df1 = pd.DataFrame(data)  \n",
        "df2 = pd.DataFrame(Y,columns = ['target'])  \n",
        "\n",
        "mdf=pd.concat([df1, df2], axis=1)  \n",
        "\n",
        "mdf.head(5) "
      ],
      "execution_count": 1,
      "outputs": [
        {
          "output_type": "execute_result",
          "data": {
            "text/html": [
              "<div>\n",
              "<style scoped>\n",
              "    .dataframe tbody tr th:only-of-type {\n",
              "        vertical-align: middle;\n",
              "    }\n",
              "\n",
              "    .dataframe tbody tr th {\n",
              "        vertical-align: top;\n",
              "    }\n",
              "\n",
              "    .dataframe thead th {\n",
              "        text-align: right;\n",
              "    }\n",
              "</style>\n",
              "<table border=\"1\" class=\"dataframe\">\n",
              "  <thead>\n",
              "    <tr style=\"text-align: right;\">\n",
              "      <th></th>\n",
              "      <th>0</th>\n",
              "      <th>1</th>\n",
              "      <th>target</th>\n",
              "    </tr>\n",
              "  </thead>\n",
              "  <tbody>\n",
              "    <tr>\n",
              "      <th>0</th>\n",
              "      <td>-1</td>\n",
              "      <td>-1</td>\n",
              "      <td>0</td>\n",
              "    </tr>\n",
              "    <tr>\n",
              "      <th>1</th>\n",
              "      <td>1</td>\n",
              "      <td>-1</td>\n",
              "      <td>1</td>\n",
              "    </tr>\n",
              "    <tr>\n",
              "      <th>2</th>\n",
              "      <td>-1</td>\n",
              "      <td>1</td>\n",
              "      <td>1</td>\n",
              "    </tr>\n",
              "    <tr>\n",
              "      <th>3</th>\n",
              "      <td>1</td>\n",
              "      <td>1</td>\n",
              "      <td>1</td>\n",
              "    </tr>\n",
              "  </tbody>\n",
              "</table>\n",
              "</div>"
            ],
            "text/plain": [
              "   0  1  target\n",
              "0 -1 -1       0\n",
              "1  1 -1       1\n",
              "2 -1  1       1\n",
              "3  1  1       1"
            ]
          },
          "metadata": {
            "tags": []
          },
          "execution_count": 1
        }
      ]
    },
    {
      "cell_type": "code",
      "metadata": {
        "colab": {
          "base_uri": "https://localhost:8080/"
        },
        "id": "nj6qSHiaq6TI",
        "outputId": "e2b9a1fc-e9f2-4acd-af19-73bb78a2da4e"
      },
      "source": [
        "def prediction(rows,weights):\n",
        "  activation=weights[0]\n",
        "  for i in range(len(rows)-1):\n",
        "    activation=activation+weights[i+1]*rows[i]\n",
        "  return 1 if activation>=0.2 else 0\n",
        "\n",
        "def weight_train(train,Y,lrate,nepoch):\n",
        "  weights=[0 for i in range(len(train[0]))]\n",
        "  for epoch in range(nepoch):\n",
        "    errorsum=0\n",
        "    for row,y1 in zip(train,Y):\n",
        "      pred=prediction(row,weights)\n",
        "      error=y1[0]-pred\n",
        "      errorsum+=error*2\n",
        "      weights[0]=weights[0]+lrate*error\n",
        "      for i in range(len(row)-1):\n",
        "        weights[i+1]=weights[i+1]+lrate*error*row[i]\n",
        "    print('>epoch=%d,lrate=%.3f,error=%.3f'%(epoch,lrate,errorsum))\n",
        "  return weights\n",
        "data=[[-1,-1],[1,-1],[-1,1],[1,1]]\n",
        "Y=[[0],[1],[1],[1]]\n",
        "lrate = 1\n",
        "nepoch = 2\n",
        "weights = weight_train(data,Y, lrate, nepoch)\n",
        "print(weights)\n",
        "c1=0\n",
        "res=0\n",
        "for row,y1 in zip(data,Y):\n",
        "  predict = prediction(row, weights)\n",
        "  print(\"Expected Results=%d, Predicted Results=%d\" % (y1[0], predict))\n",
        "  if y1[0]==predict:\n",
        "     c1=c1+1\n",
        "res=c1/len(data)\n",
        "\n",
        "print(\"ACCURACY:\",res)\n",
        "  "
      ],
      "execution_count": 2,
      "outputs": [
        {
          "output_type": "stream",
          "text": [
            ">epoch=0,lrate=1.000,error=4.000\n",
            ">epoch=1,lrate=1.000,error=0.000\n",
            "[2, 0]\n",
            "Expected Results=0, Predicted Results=1\n",
            "Expected Results=1, Predicted Results=1\n",
            "Expected Results=1, Predicted Results=1\n",
            "Expected Results=1, Predicted Results=1\n",
            "ACCURACY: 0.75\n"
          ],
          "name": "stdout"
        }
      ]
    }
  ]
}